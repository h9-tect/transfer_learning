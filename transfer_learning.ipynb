{
 "cells": [
  {
   "cell_type": "code",
   "execution_count": null,
   "metadata": {},
   "outputs": [],
   "source": [
    "import transformers\n",
    "import torch\n",
    "\n",
    "# Load the BERT model pre-trained on the Wikipedia dataset\n",
    "bert = transformers.BertModel.from_pretrained('bert-base-uncased')\n",
    "\n",
    "# Freeze the layers of the BERT model\n",
    "for param in bert.parameters():\n",
    "    param.requires_grad = False\n",
    "\n",
    "# Add a fully connected layer and a output layer on top of the BERT model\n",
    "classifier = torch.nn.Linear(768, 2)\n",
    "\n",
    "# Create a new model using the BERT model as the base\n",
    "model = transformers.BertForSequenceClassification(bert, classifier)\n",
    "\n",
    "# Load the IMDB dataset\n",
    "(x_train, y_train), (x_test, y_test) = transformers.text_classification.DATASETS['IMDB'](\n",
    "    'imdb', '/path/to/data')\n",
    "\n",
    "# Convert the data to tensors and send them to the device (e.g. GPU)\n",
    "x_train = torch.tensor(x_train).to(device)\n",
    "y_train = torch.tensor(y_train).to(device)\n",
    "x_test = torch.tensor(x_test).to(device)\n",
    "y_test = torch.tensor(y_test).to(device)\n",
    "\n",
    "# Compile and fit the model\n",
    "loss_fn = torch.nn.CrossEntropyLoss()\n",
    "optimizer = torch.optim.Adam(model.parameters(), lr=1e-5)\n",
    "for epoch in range(10):\n",
    "    model.train()\n",
    "    for i, (x_batch, y_batch) in enumerate(zip(x_train, y_train)):\n",
    "        logits = model(x_batch, labels=y_batch)\n",
    "        loss = loss_fn(logits, y_batch)\n",
    "        optimizer.zero_grad()\n",
    "        loss.backward()\n",
    "        optimizer.step()\n",
    "    model.eval()\n",
    "    with torch.no_grad():\n",
    "        logits = model(x_test)\n",
    "        test_loss = loss_fn(logits, y_test)\n",
    "        accuracy = (logits.argmax(-1) == y_test).float().mean()\n",
    "        print(f'Epoch {epoch}, Test loss: {test_loss}, Accuracy: {accuracy}')\n"
   ]
  }
 ],
 "metadata": {
  "language_info": {
   "name": "python"
  },
  "orig_nbformat": 4
 },
 "nbformat": 4,
 "nbformat_minor": 2
}
